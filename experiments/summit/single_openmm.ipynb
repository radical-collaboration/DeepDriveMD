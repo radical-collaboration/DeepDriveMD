{
 "cells": [
  {
   "cell_type": "code",
   "execution_count": 110,
   "metadata": {},
   "outputs": [
    {
     "data": {
      "text/html": [
       "<style>.container { width:100% !important; }</style>"
      ],
      "text/plain": [
       "<IPython.core.display.HTML object>"
      ]
     },
     "metadata": {},
     "output_type": "display_data"
    }
   ],
   "source": [
    "%matplotlib inline\n",
    "%run 'notebook_utils.py'\n",
    "\n",
    "import sys\n",
    "import pprint\n",
    "import cProfile\n",
    "\n",
    "import matplotlib.pyplot as plt\n",
    "import numpy             as np\n",
    "\n",
    "import radical.utils     as ru\n",
    "import radical.pilot     as rp\n",
    "import radical.analytics as ra\n",
    "import radical.entk as re \n",
    "\n",
    "from   radical.utils.profile import *\n",
    "from   radical.pilot.states  import *\n",
    "import glob\n",
    "from math import sqrt\n",
    "from matplotlib.ticker import MaxNLocator\n",
    "from matplotlib.ticker import AutoMinorLocator"
   ]
  },
  {
   "cell_type": "code",
   "execution_count": 111,
   "metadata": {},
   "outputs": [],
   "source": [
    "df = pd.DataFrame(columns=['RP overhead', 'EnTK overhead','Task Execution'])\n",
    "df_err = pd.DataFrame(columns=['RP overhead', 'EnTK overhead','Task Execution'])\n",
    "\n",
    "trials = 4\n",
    "\n",
    "rp_data = []\n",
    "entk_data = []\n",
    "exec_data = []\n",
    "\n",
    "list_exec = []\n",
    "list_rp = []\n",
    "list_entk = []\n",
    "list_staging = []"
   ]
  },
  {
   "cell_type": "code",
   "execution_count": 112,
   "metadata": {},
   "outputs": [
    {
     "data": {
      "text/html": [
       "<div>\n",
       "<style scoped>\n",
       "    .dataframe tbody tr th:only-of-type {\n",
       "        vertical-align: middle;\n",
       "    }\n",
       "\n",
       "    .dataframe tbody tr th {\n",
       "        vertical-align: top;\n",
       "    }\n",
       "\n",
       "    .dataframe thead th {\n",
       "        text-align: right;\n",
       "    }\n",
       "</style>\n",
       "<table border=\"1\" class=\"dataframe\">\n",
       "  <thead>\n",
       "    <tr style=\"text-align: right;\">\n",
       "      <th></th>\n",
       "      <th>RP overhead</th>\n",
       "      <th>EnTK overhead</th>\n",
       "      <th>Task Execution</th>\n",
       "    </tr>\n",
       "  </thead>\n",
       "  <tbody>\n",
       "    <tr>\n",
       "      <th>1</th>\n",
       "      <td>77.6598</td>\n",
       "      <td>1.1565</td>\n",
       "      <td>5884.42</td>\n",
       "    </tr>\n",
       "  </tbody>\n",
       "</table>\n",
       "</div>"
      ],
      "text/plain": [
       "  RP overhead EnTK overhead Task Execution\n",
       "1     77.6598        1.1565        5884.42"
      ]
     },
     "execution_count": 112,
     "metadata": {},
     "output_type": "execute_result"
    }
   ],
   "source": [
    "folder = glob.glob('/Users/JumanaDakka/git/hyperspace-radical-collab/experiments/summit/results_0/re.session.login5.jdakka.017990.0005')\n",
    "\n",
    "rp_session = ra.Session(stype='radical.pilot', src=folder[0])\n",
    "rp_pilots = rp_session.get(etype='pilot') \n",
    "rp_pilots = rp_session.filter(etype='pilot', inplace=False)\n",
    "rp_units = rp_session.filter(etype='unit', inplace=False)\n",
    "\n",
    "rp_dur = rp_pilots.duration([rp.PMGR_ACTIVE, rp.FINAL])\n",
    "exec_dur = rp_units.duration(event=[{ru.EVENT: 'cu_exec_start'}, {ru.EVENT: 'cu_exec_stop'}])\n",
    "\n",
    "\n",
    "re_session = ra.Session(src = os.path.dirname(folder[0]), sid = 're.session.login5.jdakka.017990.0005', stype = 'radical.entk')\n",
    "tasks = re_session.filter(etype='task', inplace=False)\n",
    "entk_dur = tasks.duration(event=[{ru.EVENT: 'state',\n",
    "                                    ru.STATE: re.states.SCHEDULING},\n",
    "                                    {ru.EVENT: 'state',\n",
    "                                    ru.STATE: re.states.SUBMITTED}])\n",
    "\n",
    "entk_dur = entk_dur + tasks.duration(event=[{ru.EVENT: 'state',\n",
    "                                    ru.STATE: re.states.COMPLETED},\n",
    "                                    {ru.EVENT: 'state',\n",
    "                                    ru.STATE: re.states.DONE}])\n",
    "\n",
    "\n",
    "rp_units = rp_session.filter(etype='unit', inplace=False)\n",
    "staging_dur = rp_units.duration(event=[{ru.EVENT: 'cu_pre_start'}, {ru.EVENT: 'cu_pre_stop'}])\n",
    "\n",
    "list_exec.append(exec_dur)\n",
    "rp_dur = rp_dur - exec_dur \n",
    "list_rp.append(rp_dur)\n",
    "list_entk.append(entk_dur)\n",
    "list_staging.append(staging_dur)\n",
    "\n",
    "list_rp_total = sum(list_rp)/len(list_rp)\n",
    "list_exec_total = sum(list_exec)/len(list_exec)\n",
    "list_entk_total = sum(list_entk)/len(list_entk)\n",
    "# list_staging = sum(list_staging)/len(list_staging)\n",
    "\n",
    "df.at[1, 'RP overhead'] = list_rp_total\n",
    "df.at[1, 'EnTK overhead'] = list_entk_total\n",
    "df.at[1, 'Task Execution'] = list_exec_total\n",
    "# df.at[1, 'Pre Exec Overhead'] = list_exec\n",
    "\n",
    "\n",
    "df_err.at[1, 'RP overhead'] = np.std(list_rp)/sqrt(2)\n",
    "df_err.at[1,'EnTK overhead'] = np.std(list_entk)/sqrt(2)\n",
    "df_err.at[1, 'Task Execution'] = np.std(list_exec)/sqrt(2)\n",
    "\n",
    "df"
   ]
  },
  {
   "cell_type": "code",
   "execution_count": 113,
   "metadata": {},
   "outputs": [
    {
     "data": {
      "text/html": [
       "<div>\n",
       "<style scoped>\n",
       "    .dataframe tbody tr th:only-of-type {\n",
       "        vertical-align: middle;\n",
       "    }\n",
       "\n",
       "    .dataframe tbody tr th {\n",
       "        vertical-align: top;\n",
       "    }\n",
       "\n",
       "    .dataframe thead th {\n",
       "        text-align: right;\n",
       "    }\n",
       "</style>\n",
       "<table border=\"1\" class=\"dataframe\">\n",
       "  <thead>\n",
       "    <tr style=\"text-align: right;\">\n",
       "      <th></th>\n",
       "      <th>RP overhead</th>\n",
       "      <th>EnTK overhead</th>\n",
       "      <th>Task Execution</th>\n",
       "    </tr>\n",
       "  </thead>\n",
       "  <tbody>\n",
       "    <tr>\n",
       "      <th>1</th>\n",
       "      <td>68.9472</td>\n",
       "      <td>1.2372</td>\n",
       "      <td>5836.6</td>\n",
       "    </tr>\n",
       "  </tbody>\n",
       "</table>\n",
       "</div>"
      ],
      "text/plain": [
       "  RP overhead EnTK overhead Task Execution\n",
       "1     68.9472        1.2372         5836.6"
      ]
     },
     "execution_count": 113,
     "metadata": {},
     "output_type": "execute_result"
    }
   ],
   "source": [
    "folder = glob.glob('/Users/JumanaDakka/git/hyperspace-radical-collab/experiments/summit/results_3/re.session.login5.jdakka.017991.0001')\n",
    "\n",
    "rp_session = ra.Session(stype='radical.pilot', src=folder[0])\n",
    "rp_pilots = rp_session.get(etype='pilot') \n",
    "rp_pilots = rp_session.filter(etype='pilot', inplace=False)\n",
    "rp_units = rp_session.filter(etype='unit', inplace=False)\n",
    "\n",
    "rp_dur = rp_pilots.duration([rp.PMGR_ACTIVE, rp.FINAL])\n",
    "exec_dur = rp_units.duration(event=[{ru.EVENT: 'cu_exec_start'}, {ru.EVENT: 'cu_exec_stop'}])\n",
    "\n",
    "\n",
    "re_session = ra.Session(src = os.path.dirname(folder[0]), sid = 're.session.login5.jdakka.017991.0001', stype = 'radical.entk')\n",
    "tasks = re_session.filter(etype='task', inplace=False)\n",
    "entk_dur = tasks.duration(event=[{ru.EVENT: 'state',\n",
    "                                    ru.STATE: re.states.SCHEDULING},\n",
    "                                    {ru.EVENT: 'state',\n",
    "                                    ru.STATE: re.states.SUBMITTED}])\n",
    "\n",
    "entk_dur = entk_dur + tasks.duration(event=[{ru.EVENT: 'state',\n",
    "                                    ru.STATE: re.states.COMPLETED},\n",
    "                                    {ru.EVENT: 'state',\n",
    "                                    ru.STATE: re.states.DONE}])\n",
    "\n",
    "\n",
    "rp_units = rp_session.filter(etype='unit', inplace=False)\n",
    "staging_dur = rp_units.duration(event=[{ru.EVENT: 'cu_pre_start'}, {ru.EVENT: 'cu_pre_stop'}])\n",
    "\n",
    "list_exec.append(exec_dur)\n",
    "rp_dur = rp_dur - exec_dur \n",
    "list_rp.append(rp_dur)\n",
    "list_entk.append(entk_dur)\n",
    "list_exec.append(exec_dur)\n",
    "list_staging.append(staging_dur)\n",
    "\n",
    "list_rp_total = sum(list_rp)/len(list_rp)\n",
    "list_exec_total = sum(list_exec)/len(list_exec)\n",
    "list_entk_total = sum(list_entk)/len(list_entk)\n",
    "# list_staging = sum(list_staging)/len(list_staging)\n",
    "\n",
    "df.at[1, 'RP overhead'] = list_rp_total\n",
    "df.at[1, 'EnTK overhead'] = list_entk_total\n",
    "df.at[1, 'Task Execution'] = list_exec_total\n",
    "# df.at[1, 'Pre Exec Overhead'] = list_exec\n",
    "\n",
    "\n",
    "df_err.at[1, 'RP overhead'] = np.std(list_rp)/sqrt(2)\n",
    "df_err.at[1,'EnTK overhead'] = np.std(list_entk)/sqrt(2)\n",
    "df_err.at[1, 'Task Execution'] = np.std(list_exec)/sqrt(2)\n",
    "\n",
    "df\n"
   ]
  },
  {
   "cell_type": "code",
   "execution_count": 114,
   "metadata": {},
   "outputs": [
    {
     "data": {
      "image/png": "[encoded data removed]",
      "text/plain": [
       "<Figure size 936x288 with 1 Axes>"
      ]
     },
     "metadata": {},
     "output_type": "display_data"
    }
   ],
   "source": [
    "fig, ax = fig_setup(figsize=(13,4))\n",
    "FONTSIZE = 20 \n",
    "width=0.5\n",
    "ax = df.plot(kind='bar',\n",
    "             ax = ax,\n",
    "             width = width,\n",
    "             yerr = df_err,\n",
    "             logy = True,\n",
    "             rot=0,\n",
    "             )\n",
    "\n",
    "plt.xticks(np.arange(1), ('1/1'))\n",
    "ax.set_title('RADICAL-Cybertools Performance using OpenMM \\n (FS-Peptide) on ORNL Summit')\n",
    "ax.set_xlabel('No. of OpenMM Tasks/No. of GPU')\n",
    "ax.set_ylabel('Execution Time (s)')\n",
    "\n",
    "plt.legend(loc='center left', bbox_to_anchor=(1.0, 0.5))\n",
    "plt.savefig('figures/single_openmm.pdf', dpi=300, bbox_inches='tight')\n",
    "plt.savefig('figures/single_openmm.png', dpi=300, bbox_inches='tight')"
   ]
  },
  {
   "cell_type": "code",
   "execution_count": null,
   "metadata": {},
   "outputs": [],
   "source": []
  }
 ],
 "metadata": {
  "kernelspec": {
   "display_name": "Python 2",
   "language": "python",
   "name": "python2"
  },
  "language_info": {
   "codemirror_mode": {
    "name": "ipython",
    "version": 2
   },
   "file_extension": ".py",
   "mimetype": "text/x-python",
   "name": "python",
   "nbconvert_exporter": "python",
   "pygments_lexer": "ipython2",
   "version": "2.7.12"
  }
 },
 "nbformat": 4,
 "nbformat_minor": 2
}
